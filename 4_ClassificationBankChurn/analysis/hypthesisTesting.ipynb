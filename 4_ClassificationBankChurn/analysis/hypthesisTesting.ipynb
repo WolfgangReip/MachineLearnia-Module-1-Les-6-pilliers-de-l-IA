{
 "cells": [
  {
   "cell_type": "code",
   "execution_count": 31,
   "metadata": {},
   "outputs": [
    {
     "data": {
      "text/html": [
       "<div>\n",
       "<style scoped>\n",
       "    .dataframe tbody tr th:only-of-type {\n",
       "        vertical-align: middle;\n",
       "    }\n",
       "\n",
       "    .dataframe tbody tr th {\n",
       "        vertical-align: top;\n",
       "    }\n",
       "\n",
       "    .dataframe thead th {\n",
       "        text-align: right;\n",
       "    }\n",
       "</style>\n",
       "<table border=\"1\" class=\"dataframe\">\n",
       "  <thead>\n",
       "    <tr style=\"text-align: right;\">\n",
       "      <th></th>\n",
       "      <th>ID</th>\n",
       "      <th>CustomerId</th>\n",
       "      <th>Surname</th>\n",
       "      <th>CreditScore</th>\n",
       "      <th>Geography</th>\n",
       "      <th>Gender</th>\n",
       "      <th>Age</th>\n",
       "      <th>Tenure</th>\n",
       "      <th>Balance</th>\n",
       "      <th>NumOfProducts</th>\n",
       "      <th>HasCrCard</th>\n",
       "      <th>IsActiveMember</th>\n",
       "      <th>EstimatedSalary</th>\n",
       "      <th>Exited</th>\n",
       "    </tr>\n",
       "  </thead>\n",
       "  <tbody>\n",
       "    <tr>\n",
       "      <th>0</th>\n",
       "      <td>37765</td>\n",
       "      <td>15794860</td>\n",
       "      <td>Ch'eng</td>\n",
       "      <td>627</td>\n",
       "      <td>France</td>\n",
       "      <td>Male</td>\n",
       "      <td>28.0</td>\n",
       "      <td>7</td>\n",
       "      <td>131694.04</td>\n",
       "      <td>1</td>\n",
       "      <td>1.0</td>\n",
       "      <td>1.0</td>\n",
       "      <td>161205.61</td>\n",
       "      <td>0</td>\n",
       "    </tr>\n",
       "    <tr>\n",
       "      <th>1</th>\n",
       "      <td>130453</td>\n",
       "      <td>15728005</td>\n",
       "      <td>Hargreaves</td>\n",
       "      <td>597</td>\n",
       "      <td>France</td>\n",
       "      <td>Male</td>\n",
       "      <td>34.0</td>\n",
       "      <td>2</td>\n",
       "      <td>0.00</td>\n",
       "      <td>2</td>\n",
       "      <td>0.0</td>\n",
       "      <td>1.0</td>\n",
       "      <td>181419.29</td>\n",
       "      <td>0</td>\n",
       "    </tr>\n",
       "    <tr>\n",
       "      <th>2</th>\n",
       "      <td>77297</td>\n",
       "      <td>15686810</td>\n",
       "      <td>Ts'ui</td>\n",
       "      <td>724</td>\n",
       "      <td>France</td>\n",
       "      <td>Male</td>\n",
       "      <td>39.0</td>\n",
       "      <td>7</td>\n",
       "      <td>0.00</td>\n",
       "      <td>2</td>\n",
       "      <td>1.0</td>\n",
       "      <td>1.0</td>\n",
       "      <td>100862.54</td>\n",
       "      <td>0</td>\n",
       "    </tr>\n",
       "    <tr>\n",
       "      <th>3</th>\n",
       "      <td>40858</td>\n",
       "      <td>15760244</td>\n",
       "      <td>Trevisano</td>\n",
       "      <td>663</td>\n",
       "      <td>Germany</td>\n",
       "      <td>Female</td>\n",
       "      <td>56.0</td>\n",
       "      <td>5</td>\n",
       "      <td>118577.24</td>\n",
       "      <td>3</td>\n",
       "      <td>1.0</td>\n",
       "      <td>0.0</td>\n",
       "      <td>61164.45</td>\n",
       "      <td>1</td>\n",
       "    </tr>\n",
       "    <tr>\n",
       "      <th>4</th>\n",
       "      <td>19804</td>\n",
       "      <td>15810563</td>\n",
       "      <td>French</td>\n",
       "      <td>627</td>\n",
       "      <td>France</td>\n",
       "      <td>Female</td>\n",
       "      <td>33.0</td>\n",
       "      <td>5</td>\n",
       "      <td>0.00</td>\n",
       "      <td>2</td>\n",
       "      <td>1.0</td>\n",
       "      <td>1.0</td>\n",
       "      <td>103737.82</td>\n",
       "      <td>0</td>\n",
       "    </tr>\n",
       "    <tr>\n",
       "      <th>...</th>\n",
       "      <td>...</td>\n",
       "      <td>...</td>\n",
       "      <td>...</td>\n",
       "      <td>...</td>\n",
       "      <td>...</td>\n",
       "      <td>...</td>\n",
       "      <td>...</td>\n",
       "      <td>...</td>\n",
       "      <td>...</td>\n",
       "      <td>...</td>\n",
       "      <td>...</td>\n",
       "      <td>...</td>\n",
       "      <td>...</td>\n",
       "      <td>...</td>\n",
       "    </tr>\n",
       "    <tr>\n",
       "      <th>143574</th>\n",
       "      <td>97639</td>\n",
       "      <td>15759915</td>\n",
       "      <td>Onwumelu</td>\n",
       "      <td>559</td>\n",
       "      <td>Germany</td>\n",
       "      <td>Male</td>\n",
       "      <td>45.0</td>\n",
       "      <td>3</td>\n",
       "      <td>111634.29</td>\n",
       "      <td>1</td>\n",
       "      <td>1.0</td>\n",
       "      <td>1.0</td>\n",
       "      <td>103349.74</td>\n",
       "      <td>0</td>\n",
       "    </tr>\n",
       "    <tr>\n",
       "      <th>143575</th>\n",
       "      <td>95939</td>\n",
       "      <td>15769974</td>\n",
       "      <td>Shih</td>\n",
       "      <td>597</td>\n",
       "      <td>Germany</td>\n",
       "      <td>Male</td>\n",
       "      <td>41.0</td>\n",
       "      <td>10</td>\n",
       "      <td>119182.73</td>\n",
       "      <td>1</td>\n",
       "      <td>0.0</td>\n",
       "      <td>0.0</td>\n",
       "      <td>121299.14</td>\n",
       "      <td>0</td>\n",
       "    </tr>\n",
       "    <tr>\n",
       "      <th>143576</th>\n",
       "      <td>152315</td>\n",
       "      <td>15592028</td>\n",
       "      <td>Hsiao</td>\n",
       "      <td>576</td>\n",
       "      <td>Spain</td>\n",
       "      <td>Male</td>\n",
       "      <td>31.0</td>\n",
       "      <td>6</td>\n",
       "      <td>127299.56</td>\n",
       "      <td>1</td>\n",
       "      <td>1.0</td>\n",
       "      <td>1.0</td>\n",
       "      <td>57569.89</td>\n",
       "      <td>0</td>\n",
       "    </tr>\n",
       "    <tr>\n",
       "      <th>143577</th>\n",
       "      <td>117952</td>\n",
       "      <td>15804009</td>\n",
       "      <td>Ch'ang</td>\n",
       "      <td>751</td>\n",
       "      <td>France</td>\n",
       "      <td>Female</td>\n",
       "      <td>27.0</td>\n",
       "      <td>4</td>\n",
       "      <td>90721.11</td>\n",
       "      <td>1</td>\n",
       "      <td>0.0</td>\n",
       "      <td>0.0</td>\n",
       "      <td>84496.78</td>\n",
       "      <td>0</td>\n",
       "    </tr>\n",
       "    <tr>\n",
       "      <th>143578</th>\n",
       "      <td>43567</td>\n",
       "      <td>15771409</td>\n",
       "      <td>Chukwukadibia</td>\n",
       "      <td>718</td>\n",
       "      <td>Germany</td>\n",
       "      <td>Female</td>\n",
       "      <td>40.0</td>\n",
       "      <td>1</td>\n",
       "      <td>131753.99</td>\n",
       "      <td>1</td>\n",
       "      <td>1.0</td>\n",
       "      <td>0.0</td>\n",
       "      <td>140937.98</td>\n",
       "      <td>1</td>\n",
       "    </tr>\n",
       "  </tbody>\n",
       "</table>\n",
       "<p>143579 rows × 14 columns</p>\n",
       "</div>"
      ],
      "text/plain": [
       "            ID  CustomerId        Surname  CreditScore Geography  Gender  \\\n",
       "0        37765    15794860         Ch'eng          627    France    Male   \n",
       "1       130453    15728005     Hargreaves          597    France    Male   \n",
       "2        77297    15686810          Ts'ui          724    France    Male   \n",
       "3        40858    15760244      Trevisano          663   Germany  Female   \n",
       "4        19804    15810563         French          627    France  Female   \n",
       "...        ...         ...            ...          ...       ...     ...   \n",
       "143574   97639    15759915       Onwumelu          559   Germany    Male   \n",
       "143575   95939    15769974           Shih          597   Germany    Male   \n",
       "143576  152315    15592028          Hsiao          576     Spain    Male   \n",
       "143577  117952    15804009         Ch'ang          751    France  Female   \n",
       "143578   43567    15771409  Chukwukadibia          718   Germany  Female   \n",
       "\n",
       "         Age  Tenure    Balance  NumOfProducts  HasCrCard  IsActiveMember  \\\n",
       "0       28.0       7  131694.04              1        1.0             1.0   \n",
       "1       34.0       2       0.00              2        0.0             1.0   \n",
       "2       39.0       7       0.00              2        1.0             1.0   \n",
       "3       56.0       5  118577.24              3        1.0             0.0   \n",
       "4       33.0       5       0.00              2        1.0             1.0   \n",
       "...      ...     ...        ...            ...        ...             ...   \n",
       "143574  45.0       3  111634.29              1        1.0             1.0   \n",
       "143575  41.0      10  119182.73              1        0.0             0.0   \n",
       "143576  31.0       6  127299.56              1        1.0             1.0   \n",
       "143577  27.0       4   90721.11              1        0.0             0.0   \n",
       "143578  40.0       1  131753.99              1        1.0             0.0   \n",
       "\n",
       "        EstimatedSalary  Exited  \n",
       "0             161205.61       0  \n",
       "1             181419.29       0  \n",
       "2             100862.54       0  \n",
       "3              61164.45       1  \n",
       "4             103737.82       0  \n",
       "...                 ...     ...  \n",
       "143574        103349.74       0  \n",
       "143575        121299.14       0  \n",
       "143576         57569.89       0  \n",
       "143577         84496.78       0  \n",
       "143578        140937.98       1  \n",
       "\n",
       "[143579 rows x 14 columns]"
      ]
     },
     "execution_count": 31,
     "metadata": {},
     "output_type": "execute_result"
    }
   ],
   "source": [
    "import seaborn as sns\n",
    "import pandas as pd\n",
    "import matplotlib.pyplot as plt\n",
    "import numpy as np\n",
    "from sklearn.preprocessing import OneHotEncoder\n",
    "\n",
    "df = pd.read_csv('../data/train_data.csv')\n",
    "\n",
    "df"
   ]
  },
  {
   "cell_type": "code",
   "execution_count": 33,
   "metadata": {},
   "outputs": [
    {
     "name": "stdout",
     "output_type": "stream",
     "text": [
      "✅ Corrélation Spearman Tenure vs Exited: -0.0191 (p-value = 0.0000)\n"
     ]
    }
   ],
   "source": [
    "from scipy.stats import spearmanr\n",
    "\n",
    "rho_tenure, p_tenure = spearmanr(df[\"Tenure\"], df[\"Exited\"])\n",
    "print(f\"✅ Corrélation Spearman Tenure vs Exited: {rho_tenure:.4f} (p-value = {p_tenure:.4f})\")\n"
   ]
  },
  {
   "cell_type": "code",
   "execution_count": 15,
   "metadata": {},
   "outputs": [
    {
     "data": {
      "text/plain": [
       "<Axes: xlabel='Exited', ylabel='NumOfProducts'>"
      ]
     },
     "execution_count": 15,
     "metadata": {},
     "output_type": "execute_result"
    },
    {
     "data": {
      "image/png": "[encoded data removed]",
      "text/plain": [
       "<Figure size 1000x600 with 2 Axes>"
      ]
     },
     "metadata": {},
     "output_type": "display_data"
    }
   ],
   "source": [
    "from scipy.stats import chi2_contingency, fisher_exact\n",
    "\n",
    "# We assume the hypothesis that Geography, CreditScore, Gender, Tenure, NumOfProducts, HasCrCard, IsActiveMember are independant from Exited. \n",
    "# We will test this hypothesis using the chi2 test.\n",
    "\n",
    "# I'd like a contengency table will all those varibales vs Exited, then I will run the chi2 test on each of them.\n",
    "\n",
    "# Geography\n",
    "contingency_table = pd.crosstab(df['NumOfProducts'], df['Exited'])\n",
    "# chi2, p, dof, expected = chi2_contingency(contingency_table)\n",
    "# print('Geography')\n",
    "# print('p-value:', p)\n",
    "# print('chi2:', chi2)\n",
    "# print('dof:', dof)\n",
    "# print('expected:', expected)\n",
    "plt.figure(figsize=(10,6))\n",
    "sns.heatmap(contingency_table, annot=True, cmap=\"Purples\")\n",
    "\n",
    "\n"
   ]
  },
  {
   "cell_type": "code",
   "execution_count": 13,
   "metadata": {},
   "outputs": [
    {
     "name": "stdout",
     "output_type": "stream",
     "text": [
      "Exited      0      1  Churn_Rate\n",
      "Gender                          \n",
      "Female  45038  17575   28.069251\n",
      "Male    68091  12875   15.901737\n"
     ]
    }
   ],
   "source": [
    "import pandas as pd\n",
    "\n",
    "contingency_table = pd.crosstab(df[\"Gender\"], df[\"Exited\"])\n",
    "contingency_table[\"Churn_Rate\"] = contingency_table[1] / (contingency_table[0] + contingency_table[1]) * 100\n",
    "\n",
    "print(contingency_table)\n"
   ]
  },
  {
   "cell_type": "code",
   "execution_count": 14,
   "metadata": {},
   "outputs": [
    {
     "name": "stdout",
     "output_type": "stream",
     "text": [
      "🔹 Cramer's V = 0.1476\n"
     ]
    }
   ],
   "source": [
    "import numpy as np\n",
    "import scipy.stats as stats\n",
    "\n",
    "chi2, p, dof, expected = stats.chi2_contingency(contingency_table.iloc[:, :2])\n",
    "\n",
    "n = contingency_table.sum().sum()  # Total des observations\n",
    "cramers_v = np.sqrt(chi2 / (n * (min(contingency_table.shape)-1)))\n",
    "\n",
    "print(f\"🔹 Cramer's V = {cramers_v:.4f}\")\n"
   ]
  },
  {
   "cell_type": "code",
   "execution_count": 19,
   "metadata": {},
   "outputs": [
    {
     "name": "stdout",
     "output_type": "stream",
     "text": [
      "✅ Nouveau test du chi² après regroupement : p-value = 0.0000\n"
     ]
    }
   ],
   "source": [
    "df[\"NumOfProducts\"] = df[\"NumOfProducts\"].replace('3+', 3).astype(int)\n",
    "df[\"NumOfProducts\"] = df[\"NumOfProducts\"].apply(lambda x: \"3+\" if x >= 3 else str(x))\n",
    "contingency_table = pd.crosstab(df[\"NumOfProducts\"], df[\"Exited\"])\n",
    "chi2, p, dof, expected = stats.chi2_contingency(contingency_table)\n",
    "print(f\"✅ Nouveau test du chi² après regroupement : p-value = {p:.4f}\")\n"
   ]
  },
  {
   "cell_type": "code",
   "execution_count": 24,
   "metadata": {},
   "outputs": [
    {
     "name": "stdout",
     "output_type": "stream",
     "text": [
      "✅ Cramer’s V = 0.0404\n"
     ]
    }
   ],
   "source": [
    "import numpy as np\n",
    "import scipy.stats as stats\n",
    "\n",
    "contingency_table = pd.crosstab(df[\"Tenure\"], df[\"Exited\"])\n",
    "chi2, p, dof, expected = stats.chi2_contingency(contingency_table)\n",
    "\n",
    "# Calcul de Cramer's V\n",
    "n = contingency_table.sum().sum()  # Nombre total d'observations\n",
    "cramers_v = np.sqrt(chi2 / (n * (min(contingency_table.shape)-1)))\n",
    "\n",
    "print(f\"✅ Cramer’s V = {cramers_v:.4f}\")\n"
   ]
  },
  {
   "cell_type": "code",
   "execution_count": 27,
   "metadata": {},
   "outputs": [
    {
     "name": "stdout",
     "output_type": "stream",
     "text": [
      "🔹 Table de contingence :\n",
      " Exited          0      1\n",
      "HasBalance              \n",
      "0           65326  12592\n",
      "1           47803  17858\n",
      "✅ Test du chi² : p-value = 0.0000\n"
     ]
    }
   ],
   "source": [
    "df[\"HasBalance\"] = (df[\"Balance\"] > 0).astype(int)\n",
    "\n",
    "import scipy.stats as stats\n",
    "import pandas as pd\n",
    "\n",
    "contingency_table = pd.crosstab(df[\"HasBalance\"], df[\"Exited\"])\n",
    "\n",
    "# Test du chi²\n",
    "chi2, p, dof, expected = stats.chi2_contingency(contingency_table)\n",
    "\n",
    "print(\"🔹 Table de contingence :\\n\", contingency_table)\n",
    "print(f\"✅ Test du chi² : p-value = {p:.4f}\")\n"
   ]
  },
  {
   "cell_type": "code",
   "execution_count": 28,
   "metadata": {},
   "outputs": [
    {
     "name": "stdout",
     "output_type": "stream",
     "text": [
      "✅ Cramer’s V = 0.1345\n"
     ]
    }
   ],
   "source": [
    "import numpy as np\n",
    "\n",
    "n = contingency_table.sum().sum()  # Nombre total d’observations\n",
    "cramers_v = np.sqrt(chi2 / (n * (min(contingency_table.shape)-1)))\n",
    "\n",
    "print(f\"✅ Cramer’s V = {cramers_v:.4f}\")\n"
   ]
  },
  {
   "cell_type": "code",
   "execution_count": 29,
   "metadata": {},
   "outputs": [
    {
     "name": "stdout",
     "output_type": "stream",
     "text": [
      "Exited          0      1  Churn_Rate\n",
      "HasBalance                          \n",
      "0           65326  12592   16.160579\n",
      "1           47803  17858   27.197271\n"
     ]
    }
   ],
   "source": [
    "contingency_table[\"Churn_Rate\"] = contingency_table[1] / (contingency_table[0] + contingency_table[1]) * 100\n",
    "print(contingency_table)\n"
   ]
  },
  {
   "cell_type": "code",
   "execution_count": 30,
   "metadata": {},
   "outputs": [
    {
     "name": "stdout",
     "output_type": "stream",
     "text": [
      "✅ Corrélation Spearman Balance vs Exited: 0.1273 (p-value = 0.0000)\n",
      "✅ Corrélation Spearman HasBalance vs Exited: 0.1345 (p-value = 0.0000)\n"
     ]
    }
   ],
   "source": [
    "from scipy.stats import spearmanr\n",
    "\n",
    "rho_balance, p_balance = spearmanr(df[\"Balance\"], df[\"Exited\"])\n",
    "rho_hasbalance, p_hasbalance = spearmanr(df[\"HasBalance\"], df[\"Exited\"])\n",
    "\n",
    "print(f\"✅ Corrélation Spearman Balance vs Exited: {rho_balance:.4f} (p-value = {p_balance:.4f})\")\n",
    "print(f\"✅ Corrélation Spearman HasBalance vs Exited: {rho_hasbalance:.4f} (p-value = {p_hasbalance:.4f})\")\n"
   ]
  },
  {
   "cell_type": "code",
   "execution_count": 32,
   "metadata": {},
   "outputs": [
    {
     "name": "stdout",
     "output_type": "stream",
     "text": [
      "       ID  CustomerId     Surname  CreditScore Geography  Gender       Age  \\\n",
      "0   37765    15794860      Ch'eng    -0.366683    France    Male -1.143467   \n",
      "1  130453    15728005  Hargreaves    -0.740701    France    Male -0.467158   \n",
      "2   77297    15686810       Ts'ui     0.842641    France    Male  0.096433   \n",
      "3   40858    15760244   Trevisano     0.082138   Germany  Female  2.012643   \n",
      "4   19804    15810563      French    -0.366683    France  Female -0.579876   \n",
      "\n",
      "   Tenure   Balance  NumOfProducts  HasCrCard  IsActiveMember  \\\n",
      "0       7  1.212313              1        1.0             1.0   \n",
      "1       2 -0.883978              2        0.0             1.0   \n",
      "2       7 -0.883978              2        1.0             1.0   \n",
      "3       5  1.003521              3        1.0             0.0   \n",
      "4       5 -0.883978              2        1.0             1.0   \n",
      "\n",
      "   EstimatedSalary  Exited  \n",
      "0         0.967675       0  \n",
      "1         1.369525       0  \n",
      "2        -0.231952       0  \n",
      "3        -1.021154       1  \n",
      "4        -0.174791       0  \n"
     ]
    }
   ],
   "source": [
    "from sklearn.preprocessing import StandardScaler\n",
    "\n",
    "# Définir les colonnes à normaliser\n",
    "cols_to_normalize = [\"CreditScore\", \"Age\", \"Balance\", \"EstimatedSalary\"]\n",
    "\n",
    "# Appliquer StandardScaler\n",
    "scaler = StandardScaler()\n",
    "df[cols_to_normalize] = scaler.fit_transform(df[cols_to_normalize])\n",
    "\n",
    "print(df.head())  # Vérifier les nouvelles valeurs"
   ]
  },
  {
   "cell_type": "code",
   "execution_count": 34,
   "metadata": {},
   "outputs": [
    {
     "name": "stdout",
     "output_type": "stream",
     "text": [
      "🔹 Nombre d’outliers détectés par IQR :\n",
      " CreditScore         230\n",
      "Age                5607\n",
      "Balance               0\n",
      "EstimatedSalary       0\n",
      "dtype: int64\n"
     ]
    }
   ],
   "source": [
    "import pandas as pd\n",
    "\n",
    "# Sélection des variables continues\n",
    "continuous_features = [\"CreditScore\", \"Age\", \"Balance\", \"EstimatedSalary\"]\n",
    "\n",
    "# Calcul des quartiles\n",
    "Q1 = df[continuous_features].quantile(0.25)\n",
    "Q3 = df[continuous_features].quantile(0.75)\n",
    "IQR = Q3 - Q1\n",
    "\n",
    "# Définir les bornes inférieure et supérieure\n",
    "lower_bound = Q1 - 1.5 * IQR\n",
    "upper_bound = Q3 + 1.5 * IQR\n",
    "\n",
    "# Afficher le nombre d'outliers détectés par variable\n",
    "outliers_iqr = ((df[continuous_features] < lower_bound) | (df[continuous_features] > upper_bound)).sum()\n",
    "print(\"🔹 Nombre d’outliers détectés par IQR :\\n\", outliers_iqr)\n"
   ]
  },
  {
   "cell_type": "code",
   "execution_count": 36,
   "metadata": {},
   "outputs": [],
   "source": [
    "df[\"Age\"] = df[\"Age\"].clip(lower=lower_bound[\"Age\"], upper=upper_bound[\"Age\"])\n",
    "df_clean = df[~((df[\"CreditScore\"] < lower_bound[\"CreditScore\"]) | (df[\"CreditScore\"] > upper_bound[\"CreditScore\"]))]\n"
   ]
  },
  {
   "cell_type": "code",
   "execution_count": 38,
   "metadata": {},
   "outputs": [
    {
     "data": {
      "text/plain": [
       "{'CreditScore': ('Mann-Whitney',\n",
       "  np.float64(6.874497513424243e-45),\n",
       "  np.float64(1.37420328030162e-27)),\n",
       " 'EstimatedSalary': ('Mann-Whitney',\n",
       "  np.float64(2.0263297591795444e-90),\n",
       "  np.float64(8.444548354519292e-15))}"
      ]
     },
     "execution_count": 38,
     "metadata": {},
     "output_type": "execute_result"
    }
   ],
   "source": [
    "# Test de normalité (Shapiro-Wilk) pour voir si on peut appliquer un test de Student\n",
    "from scipy.stats import shapiro, ttest_ind, mannwhitneyu\n",
    "\n",
    "continuous_features = [\"CreditScore\", \"EstimatedSalary\"]\n",
    "target = \"Exited\"\n",
    "\n",
    "normality_tests = {feature: shapiro(df[feature]) for feature in continuous_features}\n",
    "\n",
    "# Test de Student (si normalité) ou Mann-Whitney (sinon)\n",
    "def compare_groups(feature, target):\n",
    "    group_0 = df[df[target] == 0][feature]\n",
    "    group_1 = df[df[target] == 1][feature]\n",
    "    \n",
    "    # Vérification de la normalité avec Shapiro-Wilk (p > 0.05 signifie normal)\n",
    "    stat, p_shapiro = shapiro(df[feature])\n",
    "    \n",
    "    if p_shapiro > 0.05:\n",
    "        # Test de Student\n",
    "        stat_test, p_value = ttest_ind(group_0, group_1, equal_var=False)\n",
    "        test_type = \"Student (t-test)\"\n",
    "    else:\n",
    "        # Test de Mann-Whitney\n",
    "        stat_test, p_value = mannwhitneyu(group_0, group_1, alternative=\"two-sided\")\n",
    "        test_type = \"Mann-Whitney\"\n",
    "    \n",
    "    return test_type, p_shapiro, p_value\n",
    "\n",
    "# Exécution des tests\n",
    "test_results = {feature: compare_groups(feature, target) for feature in continuous_features}\n",
    "\n",
    "# Affichage des résultats\n",
    "test_results\n"
   ]
  },
  {
   "cell_type": "code",
   "execution_count": 39,
   "metadata": {},
   "outputs": [
    {
     "data": {
      "text/plain": [
       "{'CreditScore': np.float64(0.03893824160686858),\n",
       " 'EstimatedSalary': np.float64(0.02372954234849593)}"
      ]
     },
     "execution_count": 39,
     "metadata": {},
     "output_type": "execute_result"
    }
   ],
   "source": [
    "# Fonction pour calculer Cramer's V\n",
    "def cramers_v(feature, target):\n",
    "    # Binariser la variable continue en 4 groupes (quartiles)\n",
    "    df[\"binned_\" + feature] = pd.qcut(df[feature], q=4, duplicates='drop')  \n",
    "    contingency_table = pd.crosstab(df[\"binned_\" + feature], df[target])\n",
    "    \n",
    "    # Calcul du chi2\n",
    "    chi2 = stats.chi2_contingency(contingency_table)[0]\n",
    "    n = contingency_table.sum().sum()\n",
    "    \n",
    "    # Calcul de Cramer's V\n",
    "    return np.sqrt(chi2 / (n * (min(contingency_table.shape) - 1)))\n",
    "\n",
    "# Calcul de Cramer's V pour les deux variables\n",
    "cramers_v_results = {feature: cramers_v(feature, target) for feature in continuous_features}\n",
    "\n",
    "# Affichage des résultats\n",
    "cramers_v_results\n"
   ]
  }
 ],
 "metadata": {
  "kernelspec": {
   "display_name": "4-classificationbankchurn-glxd70eG-py3.11",
   "language": "python",
   "name": "python3"
  },
  "language_info": {
   "codemirror_mode": {
    "name": "ipython",
    "version": 3
   },
   "file_extension": ".py",
   "mimetype": "text/x-python",
   "name": "python",
   "nbconvert_exporter": "python",
   "pygments_lexer": "ipython3",
   "version": "3.11.5"
  }
 },
 "nbformat": 4,
 "nbformat_minor": 2
}
