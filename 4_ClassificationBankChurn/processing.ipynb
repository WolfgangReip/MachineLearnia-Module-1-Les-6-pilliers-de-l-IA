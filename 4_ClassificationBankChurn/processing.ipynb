{
 "cells": [
  {
   "cell_type": "code",
   "execution_count": 629,
   "metadata": {},
   "outputs": [],
   "source": [
    "import pandas as pd\n",
    "import numpy as np\n",
    "from sklearn.preprocessing import OneHotEncoder\n",
    "from sklearn.preprocessing import StandardScaler\n",
    "from sklearn.linear_model import LogisticRegression\n",
    "from sklearn.ensemble import RandomForestClassifier\n",
    "import xgboost as xgb\n",
    "import joblib\n",
    "from sklearn.metrics import accuracy_score, f1_score, classification_report\n",
    "\n",
    "\n",
    "df = pd.read_csv('./data/train_data.csv')\n"
   ]
  },
  {
   "cell_type": "markdown",
   "metadata": {},
   "source": [
    "### Détection des Outliers\n"
   ]
  },
  {
   "cell_type": "code",
   "execution_count": 630,
   "metadata": {},
   "outputs": [],
   "source": [
    "# Sélection des variables continues\n",
    "continuous_features = [\"CreditScore\", \"Age\", \"Balance\", \"EstimatedSalary\"]\n",
    "\n",
    "# Calcul des quartiles\n",
    "Q1 = df[continuous_features].quantile(0.25)\n",
    "Q3 = df[continuous_features].quantile(0.75)\n",
    "IQR = Q3 - Q1\n",
    "\n",
    "# Définir les bornes\n",
    "lower_bound = Q1 - 1.5 * IQR\n",
    "upper_bound = Q3 + 1.5 * IQR\n",
    "\n",
    "# Appliquer un \"clip\" sur Age (trop d'outliers pour être supprimés)\n",
    "df[\"Age\"] = df[\"Age\"].clip(lower=lower_bound[\"Age\"], upper=upper_bound[\"Age\"])\n",
    "\n",
    "# Supprimer les outliers de CreditScore (seulement 230 lignes impactées)\n",
    "df = df[~((df[\"CreditScore\"] < lower_bound[\"CreditScore\"]) | (df[\"CreditScore\"] > upper_bound[\"CreditScore\"]))]"
   ]
  },
  {
   "cell_type": "markdown",
   "metadata": {},
   "source": [
    "### Encodage des Variables Catégorielles"
   ]
  },
  {
   "cell_type": "code",
   "execution_count": 631,
   "metadata": {},
   "outputs": [
    {
     "data": {
      "text/html": [
       "<div>\n",
       "<style scoped>\n",
       "    .dataframe tbody tr th:only-of-type {\n",
       "        vertical-align: middle;\n",
       "    }\n",
       "\n",
       "    .dataframe tbody tr th {\n",
       "        vertical-align: top;\n",
       "    }\n",
       "\n",
       "    .dataframe thead th {\n",
       "        text-align: right;\n",
       "    }\n",
       "</style>\n",
       "<table border=\"1\" class=\"dataframe\">\n",
       "  <thead>\n",
       "    <tr style=\"text-align: right;\">\n",
       "      <th></th>\n",
       "      <th>ID</th>\n",
       "      <th>CustomerId</th>\n",
       "      <th>Surname</th>\n",
       "      <th>CreditScore</th>\n",
       "      <th>Age</th>\n",
       "      <th>Tenure</th>\n",
       "      <th>Balance</th>\n",
       "      <th>NumOfProducts</th>\n",
       "      <th>HasCrCard</th>\n",
       "      <th>IsActiveMember</th>\n",
       "      <th>EstimatedSalary</th>\n",
       "      <th>Exited</th>\n",
       "      <th>Geography_Germany</th>\n",
       "      <th>Geography_Spain</th>\n",
       "      <th>Gender_Male</th>\n",
       "    </tr>\n",
       "  </thead>\n",
       "  <tbody>\n",
       "    <tr>\n",
       "      <th>0</th>\n",
       "      <td>37765</td>\n",
       "      <td>15794860</td>\n",
       "      <td>Ch'eng</td>\n",
       "      <td>627</td>\n",
       "      <td>28.0</td>\n",
       "      <td>7</td>\n",
       "      <td>131694.04</td>\n",
       "      <td>1</td>\n",
       "      <td>1.0</td>\n",
       "      <td>1.0</td>\n",
       "      <td>161205.61</td>\n",
       "      <td>0</td>\n",
       "      <td>0.0</td>\n",
       "      <td>0.0</td>\n",
       "      <td>1.0</td>\n",
       "    </tr>\n",
       "    <tr>\n",
       "      <th>1</th>\n",
       "      <td>130453</td>\n",
       "      <td>15728005</td>\n",
       "      <td>Hargreaves</td>\n",
       "      <td>597</td>\n",
       "      <td>34.0</td>\n",
       "      <td>2</td>\n",
       "      <td>0.00</td>\n",
       "      <td>2</td>\n",
       "      <td>0.0</td>\n",
       "      <td>1.0</td>\n",
       "      <td>181419.29</td>\n",
       "      <td>0</td>\n",
       "      <td>0.0</td>\n",
       "      <td>0.0</td>\n",
       "      <td>1.0</td>\n",
       "    </tr>\n",
       "    <tr>\n",
       "      <th>2</th>\n",
       "      <td>77297</td>\n",
       "      <td>15686810</td>\n",
       "      <td>Ts'ui</td>\n",
       "      <td>724</td>\n",
       "      <td>39.0</td>\n",
       "      <td>7</td>\n",
       "      <td>0.00</td>\n",
       "      <td>2</td>\n",
       "      <td>1.0</td>\n",
       "      <td>1.0</td>\n",
       "      <td>100862.54</td>\n",
       "      <td>0</td>\n",
       "      <td>0.0</td>\n",
       "      <td>0.0</td>\n",
       "      <td>1.0</td>\n",
       "    </tr>\n",
       "    <tr>\n",
       "      <th>3</th>\n",
       "      <td>40858</td>\n",
       "      <td>15760244</td>\n",
       "      <td>Trevisano</td>\n",
       "      <td>663</td>\n",
       "      <td>56.0</td>\n",
       "      <td>5</td>\n",
       "      <td>118577.24</td>\n",
       "      <td>3</td>\n",
       "      <td>1.0</td>\n",
       "      <td>0.0</td>\n",
       "      <td>61164.45</td>\n",
       "      <td>1</td>\n",
       "      <td>1.0</td>\n",
       "      <td>0.0</td>\n",
       "      <td>0.0</td>\n",
       "    </tr>\n",
       "    <tr>\n",
       "      <th>4</th>\n",
       "      <td>19804</td>\n",
       "      <td>15810563</td>\n",
       "      <td>French</td>\n",
       "      <td>627</td>\n",
       "      <td>33.0</td>\n",
       "      <td>5</td>\n",
       "      <td>0.00</td>\n",
       "      <td>2</td>\n",
       "      <td>1.0</td>\n",
       "      <td>1.0</td>\n",
       "      <td>103737.82</td>\n",
       "      <td>0</td>\n",
       "      <td>0.0</td>\n",
       "      <td>0.0</td>\n",
       "      <td>0.0</td>\n",
       "    </tr>\n",
       "  </tbody>\n",
       "</table>\n",
       "</div>"
      ],
      "text/plain": [
       "       ID  CustomerId     Surname  CreditScore   Age  Tenure    Balance  \\\n",
       "0   37765    15794860      Ch'eng          627  28.0       7  131694.04   \n",
       "1  130453    15728005  Hargreaves          597  34.0       2       0.00   \n",
       "2   77297    15686810       Ts'ui          724  39.0       7       0.00   \n",
       "3   40858    15760244   Trevisano          663  56.0       5  118577.24   \n",
       "4   19804    15810563      French          627  33.0       5       0.00   \n",
       "\n",
       "   NumOfProducts  HasCrCard  IsActiveMember  EstimatedSalary  Exited  \\\n",
       "0              1        1.0             1.0        161205.61       0   \n",
       "1              2        0.0             1.0        181419.29       0   \n",
       "2              2        1.0             1.0        100862.54       0   \n",
       "3              3        1.0             0.0         61164.45       1   \n",
       "4              2        1.0             1.0        103737.82       0   \n",
       "\n",
       "   Geography_Germany  Geography_Spain  Gender_Male  \n",
       "0                0.0              0.0          1.0  \n",
       "1                0.0              0.0          1.0  \n",
       "2                0.0              0.0          1.0  \n",
       "3                1.0              0.0          0.0  \n",
       "4                0.0              0.0          0.0  "
      ]
     },
     "execution_count": 631,
     "metadata": {},
     "output_type": "execute_result"
    }
   ],
   "source": [
    "# Encodage des Variables Catégorielles\n",
    "categorical_cols = [\"Geography\", \"Gender\"]\n",
    "encoder = OneHotEncoder(sparse_output=False, drop='first')  # drop='first' pour éviter la multicolinéarité\n",
    "\n",
    "# Appliquer One-Hot Encoding sur train_data\n",
    "encoded_data = encoder.fit_transform(df[categorical_cols])\n",
    "encoded_df = pd.DataFrame(encoded_data, columns=encoder.get_feature_names_out(categorical_cols))\n",
    "\n",
    "# Fusionner avec le dataset et supprimer les anciennes colonnes\n",
    "df = df.drop(columns=categorical_cols).reset_index(drop=True)\n",
    "df = pd.concat([df, encoded_df], axis=1)\n",
    "\n",
    "df.head()  # Vérification des colonnes encodées\n",
    "\n"
   ]
  },
  {
   "cell_type": "markdown",
   "metadata": {},
   "source": [
    "### Feature Engineering\n"
   ]
  },
  {
   "cell_type": "code",
   "execution_count": 632,
   "metadata": {},
   "outputs": [],
   "source": [
    "df[\"HasBalance\"] = (df[\"Balance\"] > 0).astype(int)\n",
    "df['AgeByBalance'] = df['Age'] * df['Balance']\n",
    "df['BalanceMinusEstimatedSalary'] = df['Balance'] - df['EstimatedSalary']   \n",
    "df[\"BalanceToSalaryRatio\"] = df[\"Balance\"] / (df[\"EstimatedSalary\"] + 1)  # Ratio entre Balance et salaire\n",
    "df[\"AgeByProducts\"] = df[\"Age\"] * df[\"NumOfProducts\"]  # Âge multiplié par le nombre de produits détenus\n",
    "df[\"IsHighBalance\"] = (df[\"Balance\"] > df[\"Balance\"].median()).astype(int)  # Balance élevée ou non\n",
    "\n"
   ]
  },
  {
   "cell_type": "markdown",
   "metadata": {},
   "source": [
    "### Feature Selection"
   ]
  },
  {
   "cell_type": "code",
   "execution_count": 633,
   "metadata": {},
   "outputs": [],
   "source": [
    "df = df.drop(columns=[\"CustomerId\", \"Surname\", \"ID\", \"Tenure\", \"HasCrCard\", \"CreditScore\", \"EstimatedSalary\"])  # Suppression des colonnes non utiles"
   ]
  },
  {
   "cell_type": "markdown",
   "metadata": {},
   "source": [
    "### Normalisations"
   ]
  },
  {
   "cell_type": "code",
   "execution_count": 634,
   "metadata": {},
   "outputs": [],
   "source": [
    "# Liste des variables continues à normaliser\n",
    "cols_to_normalize = [\"Age\", \"Balance\"]\n",
    "\n",
    "# Appliquer StandardScaler\n",
    "scaler = StandardScaler()\n",
    "df[cols_to_normalize] = scaler.fit_transform(df[cols_to_normalize])\n"
   ]
  },
  {
   "cell_type": "markdown",
   "metadata": {},
   "source": [
    "### Machine Learning"
   ]
  },
  {
   "cell_type": "code",
   "execution_count": 635,
   "metadata": {},
   "outputs": [
    {
     "name": "stdout",
     "output_type": "stream",
     "text": [
      "[LightGBM] [Info] Number of positive: 24320, number of negative: 90359\n",
      "[LightGBM] [Info] Auto-choosing row-wise multi-threading, the overhead of testing was 0.000542 seconds.\n",
      "You can set `force_row_wise=true` to remove the overhead.\n",
      "And if memory is not enough, you can set `force_col_wise=true`.\n",
      "[LightGBM] [Info] Total Bins 1199\n",
      "[LightGBM] [Info] Number of data points in the train set: 114679, number of used features: 13\n",
      "[LightGBM] [Info] [binary:BoostFromScore]: pavg=0.212070 -> initscore=-1.312492\n",
      "[LightGBM] [Info] Start training from score -1.312492\n",
      "🎯 Nouveau Seuil = 0.56\n",
      "🎯 Accuracy sur validation set = 0.8580\n",
      "🎯 F1-score sur validation set = 0.6650\n",
      "              precision    recall  f1-score   support\n",
      "\n",
      "           0       0.91      0.91      0.91     22590\n",
      "           1       0.67      0.66      0.66      6080\n",
      "\n",
      "    accuracy                           0.86     28670\n",
      "   macro avg       0.79      0.79      0.79     28670\n",
      "weighted avg       0.86      0.86      0.86     28670\n",
      "\n"
     ]
    },
    {
     "data": {
      "image/png": "[encoded data removed]",
      "text/plain": [
       "<Figure size 600x500 with 2 Axes>"
      ]
     },
     "metadata": {},
     "output_type": "display_data"
    },
    {
     "name": "stdout",
     "output_type": "stream",
     "text": [
      "✅ Modèle LightGBM optimisé sauvegardé sous 'lgbm_optimized.pkl'\n"
     ]
    }
   ],
   "source": [
    "import lightgbm as lgb\n",
    "import joblib\n",
    "import pandas as pd\n",
    "from sklearn.model_selection import train_test_split\n",
    "from sklearn.metrics import accuracy_score, f1_score, classification_report, confusion_matrix\n",
    "import matplotlib.pyplot as plt\n",
    "import seaborn as sns\n",
    "\n",
    "\n",
    "# Définir les features (X) et la cible (y)\n",
    "X = df.drop(columns=[\"Exited\"])  # Toutes les variables sauf la cible\n",
    "y = df[\"Exited\"]  # Variable cible (churn)\n",
    "\n",
    "# Séparer les données en train et validation\n",
    "X_train, X_val, y_train, y_val = train_test_split(X, y, test_size=0.2, stratify=y, random_state=42)\n",
    "\n",
    "# Initialiser LightGBM avec les hyperparamètres optimisés\n",
    "lgbm_model = lgb.LGBMClassifier(\n",
    "    max_depth=8,\n",
    "    num_leaves=56,\n",
    "    min_child_samples=44,\n",
    "    subsample=0.5962739754421336,\n",
    "    colsample_bytree=0.6296488745154157,\n",
    "    learning_rate=0.0100607081062702,\n",
    "    n_estimators=150,\n",
    "    reg_alpha=4.219608242542127,\n",
    "    reg_lambda=0.3784972479255768,\n",
    "    random_state=42,\n",
    "    is_unbalance=True\n",
    ")\n",
    "\n",
    "# Entraîner le modèle\n",
    "lgbm_model.fit(X_train, y_train)\n",
    "\n",
    "# Prédictions des probabilités sur le jeu de validation\n",
    "y_val_proba = lgbm_model.predict_proba(X_val)[:, 1]  # Probabilité d'appartenir à la classe \"Exited\"\n",
    "\n",
    "# Définir un seuil de décision différent\n",
    "new_threshold = 0.56  # Expérimente avec 0.35, 0.4, 0.45...\n",
    "\n",
    "# Convertir les probabilités en classes en appliquant le seuil\n",
    "y_val_pred = (y_val_proba >= new_threshold).astype(int)\n",
    "\n",
    "# Évaluation du modèle avec le nouveau seuil\n",
    "acc_val = accuracy_score(y_val, y_val_pred)\n",
    "f1_val = f1_score(y_val, y_val_pred)\n",
    "\n",
    "print(f\"🎯 Nouveau Seuil = {new_threshold}\")\n",
    "print(f\"🎯 Accuracy sur validation set = {acc_val:.4f}\")\n",
    "print(f\"🎯 F1-score sur validation set = {f1_val:.4f}\")\n",
    "print(classification_report(y_val, y_val_pred))\n",
    "\n",
    "# Matrice de confusion\n",
    "conf_matrix = confusion_matrix(y_val, y_val_pred)\n",
    "plt.figure(figsize=(6, 5))\n",
    "sns.heatmap(conf_matrix, annot=True, fmt=\"d\", cmap=\"Blues\", xticklabels=[\"Non-Exited\", \"Exited\"], yticklabels=[\"Non-Exited\", \"Exited\"])\n",
    "plt.xlabel(\"Prédictions\")\n",
    "plt.ylabel(\"Vraies valeurs\")\n",
    "plt.title(f\"Matrice de Confusion - LightGBM (Seuil {new_threshold})\")\n",
    "plt.show()\n",
    "\n",
    "\n",
    "# Sauvegarder le modèle entraîné\n",
    "joblib.dump(lgbm_model, \"lgbm_optimized.pkl\")\n",
    "print(\"✅ Modèle LightGBM optimisé sauvegardé sous 'lgbm_optimized.pkl'\")\n",
    "\n",
    "\n",
    "\n",
    "\n",
    "\n"
   ]
  },
  {
   "cell_type": "code",
   "execution_count": 636,
   "metadata": {},
   "outputs": [
    {
     "name": "stdout",
     "output_type": "stream",
     "text": [
      "✅ Test set après preprocessing : 21455 lignes, 13 colonnes\n"
     ]
    }
   ],
   "source": [
    "# Charger test_data.csv\n",
    "df_test = pd.read_csv(\"./data/test_data.csv\")\n",
    "\n",
    "# Vérifier que la colonne ID existe (nécessaire pour Kaggle)\n",
    "if \"ID\" not in df_test.columns:\n",
    "    raise ValueError(\"❌ ERREUR : La colonne 'ID' est absente de test_data.csv, Kaggle en a besoin.\")\n",
    "\n",
    "# Appliquer exactement le même preprocessing sur test_data.csv que sur train_data.csv\n",
    "\n",
    "### Détection des Outliers\n",
    "df_test[\"Age\"] = df_test[\"Age\"].clip(lower=lower_bound[\"Age\"], upper=upper_bound[\"Age\"])\n",
    "df_test[\"CreditScore\"] = df_test[\"CreditScore\"].clip(lower=lower_bound[\"CreditScore\"], upper=upper_bound[\"CreditScore\"])\n",
    "df_test[\"Balance\"] = df_test[\"Balance\"].clip(lower=lower_bound[\"Balance\"], upper=upper_bound[\"Balance\"])\n",
    "df_test[\"EstimatedSalary\"] = df_test[\"EstimatedSalary\"].clip(lower=lower_bound[\"EstimatedSalary\"], upper=upper_bound[\"EstimatedSalary\"])\n",
    "\n",
    "### Encodage des Variables Catégorielles\n",
    "encoded_test = encoder.transform(df_test[categorical_cols])\n",
    "encoded_test_df = pd.DataFrame(encoded_test, columns=encoder.get_feature_names_out(categorical_cols))\n",
    "\n",
    "# Fusionner avec le dataset et supprimer les anciennes colonnes\n",
    "df_test = df_test.drop(columns=categorical_cols).reset_index(drop=True)\n",
    "df_test = pd.concat([df_test, encoded_test_df], axis=1)\n",
    "\n",
    "### Feature Engineering\n",
    "df_test[\"HasBalance\"] = (df_test[\"Balance\"] > 0).astype(int)\n",
    "df_test['AgeByBalance'] = df_test['Age'] * df_test['Balance']\n",
    "df_test['BalanceMinusEstimatedSalary'] = df_test['Balance'] - df_test['EstimatedSalary']   \n",
    "df_test[\"BalanceToSalaryRatio\"] = df_test[\"Balance\"] / (df_test[\"EstimatedSalary\"] + 1)  # Ratio entre Balance et salaire\n",
    "df_test[\"AgeByProducts\"] = df_test[\"Age\"] * df_test[\"NumOfProducts\"]  # Âge multiplié par le nombre de produits détenus\n",
    "df_test[\"IsHighBalance\"] = (df_test[\"Balance\"] > df_test[\"Balance\"].median()).astype(int)  # Balance élevée ou non\n",
    "\n",
    "### Normalisation\n",
    "df_test[cols_to_normalize] = scaler.transform(df_test[cols_to_normalize])\n",
    "\n",
    "# Conserver la colonne 'ID' dans df_test avant de faire la sélection des features\n",
    "df_test_input = df_test[X.columns]  # Appliquer exactement les mêmes colonnes utilisées pour entraîner le modèle\n",
    "\n",
    "\n",
    "print(f\"✅ Test set après preprocessing : {df_test_input.shape[0]} lignes, {df_test_input.shape[1]} colonnes\")\n",
    "\n"
   ]
  },
  {
   "cell_type": "markdown",
   "metadata": {},
   "source": []
  },
  {
   "cell_type": "code",
   "execution_count": 637,
   "metadata": {},
   "outputs": [
    {
     "name": "stdout",
     "output_type": "stream",
     "text": [
      "✅ Fichier 'submission.csv' généré avec succès ! 🎯\n"
     ]
    }
   ],
   "source": [
    "# Charger le modèle Random Forest sauvegardé\n",
    "lgbm = joblib.load(\"lgbm_optimized.pkl\")\n",
    "\n",
    "# Prédire avec le modèle sur test_data\n",
    "y_test_pred = lgbm.predict(df_test_input)\n",
    "\n",
    "# Créer le DataFrame de soumission sans ajouter d'index inutile\n",
    "submission = pd.DataFrame({\n",
    "    \"ID\": df_test[\"ID\"],  # Remettre la colonne 'ID' dans le DataFrame\n",
    "    \"Exited\": y_test_pred  # Ajouter les prédictions\n",
    "})\n",
    "\n",
    "# Sauvegarder le fichier CSV pour Kaggle **sans nom de colonne pour l'index**\n",
    "submission.to_csv(\"submission.csv\", index=False)  # index=False pour ne pas inclure d'index supplémentaire\n",
    "\n",
    "# Confirmer que le fichier a été sauvegardé correctement\n",
    "print(\"✅ Fichier 'submission.csv' généré avec succès ! 🎯\")\n",
    "\n",
    "\n"
   ]
  }
 ],
 "metadata": {
  "kernelspec": {
   "display_name": "4-classificationbankchurn-glxd70eG-py3.11",
   "language": "python",
   "name": "python3"
  },
  "language_info": {
   "codemirror_mode": {
    "name": "ipython",
    "version": 3
   },
   "file_extension": ".py",
   "mimetype": "text/x-python",
   "name": "python",
   "nbconvert_exporter": "python",
   "pygments_lexer": "ipython3",
   "version": "3.11.5"
  }
 },
 "nbformat": 4,
 "nbformat_minor": 2
}
