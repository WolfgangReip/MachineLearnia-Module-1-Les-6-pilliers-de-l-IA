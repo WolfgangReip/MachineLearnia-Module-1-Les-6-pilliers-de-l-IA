{
 "cells": [
  {
   "cell_type": "code",
   "execution_count": 104,
   "metadata": {},
   "outputs": [],
   "source": [
    "import pandas as pd\n",
    "import numpy as np\n",
    "from sklearn.preprocessing import OneHotEncoder\n",
    "from sklearn.preprocessing import StandardScaler\n",
    "from sklearn.linear_model import LogisticRegression\n",
    "from sklearn.ensemble import RandomForestClassifier\n",
    "import xgboost as xgb\n",
    "import joblib\n",
    "from sklearn.metrics import accuracy_score, f1_score, classification_report\n",
    "\n",
    "\n",
    "df = pd.read_csv('./data/train_data.csv')\n"
   ]
  },
  {
   "cell_type": "markdown",
   "metadata": {},
   "source": [
    "### Détection des Outliers\n"
   ]
  },
  {
   "cell_type": "code",
   "execution_count": 105,
   "metadata": {},
   "outputs": [],
   "source": [
    "# Sélection des variables continues\n",
    "continuous_features = [\"CreditScore\", \"Age\", \"Balance\", \"EstimatedSalary\"]\n",
    "\n",
    "# Calcul des quartiles\n",
    "Q1 = df[continuous_features].quantile(0.25)\n",
    "Q3 = df[continuous_features].quantile(0.75)\n",
    "IQR = Q3 - Q1\n",
    "\n",
    "# Définir les bornes\n",
    "lower_bound = Q1 - 1.5 * IQR\n",
    "upper_bound = Q3 + 1.5 * IQR\n",
    "\n",
    "# Appliquer un \"clip\" sur Age (trop d'outliers pour être supprimés)\n",
    "df[\"Age\"] = df[\"Age\"].clip(lower=lower_bound[\"Age\"], upper=upper_bound[\"Age\"])\n",
    "\n",
    "# Supprimer les outliers de CreditScore (seulement 230 lignes impactées)\n",
    "df = df[~((df[\"CreditScore\"] < lower_bound[\"CreditScore\"]) | (df[\"CreditScore\"] > upper_bound[\"CreditScore\"]))]"
   ]
  },
  {
   "cell_type": "markdown",
   "metadata": {},
   "source": [
    "### Encodage des Variables Catégorielles"
   ]
  },
  {
   "cell_type": "code",
   "execution_count": 106,
   "metadata": {},
   "outputs": [
    {
     "data": {
      "text/html": [
       "<div>\n",
       "<style scoped>\n",
       "    .dataframe tbody tr th:only-of-type {\n",
       "        vertical-align: middle;\n",
       "    }\n",
       "\n",
       "    .dataframe tbody tr th {\n",
       "        vertical-align: top;\n",
       "    }\n",
       "\n",
       "    .dataframe thead th {\n",
       "        text-align: right;\n",
       "    }\n",
       "</style>\n",
       "<table border=\"1\" class=\"dataframe\">\n",
       "  <thead>\n",
       "    <tr style=\"text-align: right;\">\n",
       "      <th></th>\n",
       "      <th>ID</th>\n",
       "      <th>CustomerId</th>\n",
       "      <th>Surname</th>\n",
       "      <th>CreditScore</th>\n",
       "      <th>Age</th>\n",
       "      <th>Tenure</th>\n",
       "      <th>Balance</th>\n",
       "      <th>NumOfProducts</th>\n",
       "      <th>HasCrCard</th>\n",
       "      <th>IsActiveMember</th>\n",
       "      <th>EstimatedSalary</th>\n",
       "      <th>Exited</th>\n",
       "      <th>Geography_Germany</th>\n",
       "      <th>Geography_Spain</th>\n",
       "      <th>Gender_Male</th>\n",
       "    </tr>\n",
       "  </thead>\n",
       "  <tbody>\n",
       "    <tr>\n",
       "      <th>0</th>\n",
       "      <td>37765</td>\n",
       "      <td>15794860</td>\n",
       "      <td>Ch'eng</td>\n",
       "      <td>627</td>\n",
       "      <td>28.0</td>\n",
       "      <td>7</td>\n",
       "      <td>131694.04</td>\n",
       "      <td>1</td>\n",
       "      <td>1.0</td>\n",
       "      <td>1.0</td>\n",
       "      <td>161205.61</td>\n",
       "      <td>0</td>\n",
       "      <td>0.0</td>\n",
       "      <td>0.0</td>\n",
       "      <td>1.0</td>\n",
       "    </tr>\n",
       "    <tr>\n",
       "      <th>1</th>\n",
       "      <td>130453</td>\n",
       "      <td>15728005</td>\n",
       "      <td>Hargreaves</td>\n",
       "      <td>597</td>\n",
       "      <td>34.0</td>\n",
       "      <td>2</td>\n",
       "      <td>0.00</td>\n",
       "      <td>2</td>\n",
       "      <td>0.0</td>\n",
       "      <td>1.0</td>\n",
       "      <td>181419.29</td>\n",
       "      <td>0</td>\n",
       "      <td>0.0</td>\n",
       "      <td>0.0</td>\n",
       "      <td>1.0</td>\n",
       "    </tr>\n",
       "    <tr>\n",
       "      <th>2</th>\n",
       "      <td>77297</td>\n",
       "      <td>15686810</td>\n",
       "      <td>Ts'ui</td>\n",
       "      <td>724</td>\n",
       "      <td>39.0</td>\n",
       "      <td>7</td>\n",
       "      <td>0.00</td>\n",
       "      <td>2</td>\n",
       "      <td>1.0</td>\n",
       "      <td>1.0</td>\n",
       "      <td>100862.54</td>\n",
       "      <td>0</td>\n",
       "      <td>0.0</td>\n",
       "      <td>0.0</td>\n",
       "      <td>1.0</td>\n",
       "    </tr>\n",
       "    <tr>\n",
       "      <th>3</th>\n",
       "      <td>40858</td>\n",
       "      <td>15760244</td>\n",
       "      <td>Trevisano</td>\n",
       "      <td>663</td>\n",
       "      <td>56.0</td>\n",
       "      <td>5</td>\n",
       "      <td>118577.24</td>\n",
       "      <td>3</td>\n",
       "      <td>1.0</td>\n",
       "      <td>0.0</td>\n",
       "      <td>61164.45</td>\n",
       "      <td>1</td>\n",
       "      <td>1.0</td>\n",
       "      <td>0.0</td>\n",
       "      <td>0.0</td>\n",
       "    </tr>\n",
       "    <tr>\n",
       "      <th>4</th>\n",
       "      <td>19804</td>\n",
       "      <td>15810563</td>\n",
       "      <td>French</td>\n",
       "      <td>627</td>\n",
       "      <td>33.0</td>\n",
       "      <td>5</td>\n",
       "      <td>0.00</td>\n",
       "      <td>2</td>\n",
       "      <td>1.0</td>\n",
       "      <td>1.0</td>\n",
       "      <td>103737.82</td>\n",
       "      <td>0</td>\n",
       "      <td>0.0</td>\n",
       "      <td>0.0</td>\n",
       "      <td>0.0</td>\n",
       "    </tr>\n",
       "  </tbody>\n",
       "</table>\n",
       "</div>"
      ],
      "text/plain": [
       "       ID  CustomerId     Surname  CreditScore   Age  Tenure    Balance  \\\n",
       "0   37765    15794860      Ch'eng          627  28.0       7  131694.04   \n",
       "1  130453    15728005  Hargreaves          597  34.0       2       0.00   \n",
       "2   77297    15686810       Ts'ui          724  39.0       7       0.00   \n",
       "3   40858    15760244   Trevisano          663  56.0       5  118577.24   \n",
       "4   19804    15810563      French          627  33.0       5       0.00   \n",
       "\n",
       "   NumOfProducts  HasCrCard  IsActiveMember  EstimatedSalary  Exited  \\\n",
       "0              1        1.0             1.0        161205.61       0   \n",
       "1              2        0.0             1.0        181419.29       0   \n",
       "2              2        1.0             1.0        100862.54       0   \n",
       "3              3        1.0             0.0         61164.45       1   \n",
       "4              2        1.0             1.0        103737.82       0   \n",
       "\n",
       "   Geography_Germany  Geography_Spain  Gender_Male  \n",
       "0                0.0              0.0          1.0  \n",
       "1                0.0              0.0          1.0  \n",
       "2                0.0              0.0          1.0  \n",
       "3                1.0              0.0          0.0  \n",
       "4                0.0              0.0          0.0  "
      ]
     },
     "execution_count": 106,
     "metadata": {},
     "output_type": "execute_result"
    }
   ],
   "source": [
    "# Encodage des Variables Catégorielles\n",
    "categorical_cols = [\"Geography\", \"Gender\"]\n",
    "encoder = OneHotEncoder(sparse_output=False, drop='first')  # drop='first' pour éviter la multicolinéarité\n",
    "\n",
    "# Appliquer One-Hot Encoding sur train_data\n",
    "encoded_data = encoder.fit_transform(df[categorical_cols])\n",
    "encoded_df = pd.DataFrame(encoded_data, columns=encoder.get_feature_names_out(categorical_cols))\n",
    "\n",
    "# Fusionner avec le dataset et supprimer les anciennes colonnes\n",
    "df = df.drop(columns=categorical_cols).reset_index(drop=True)\n",
    "df = pd.concat([df, encoded_df], axis=1)\n",
    "\n",
    "df.head()  # Vérification des colonnes encodées\n",
    "\n"
   ]
  },
  {
   "cell_type": "markdown",
   "metadata": {},
   "source": [
    "### Feature Engineering\n"
   ]
  },
  {
   "cell_type": "code",
   "execution_count": 107,
   "metadata": {},
   "outputs": [],
   "source": [
    "df[\"HasBalance\"] = (df[\"Balance\"] > 0).astype(int)"
   ]
  },
  {
   "cell_type": "markdown",
   "metadata": {},
   "source": [
    "### Feature Selection"
   ]
  },
  {
   "cell_type": "code",
   "execution_count": 108,
   "metadata": {},
   "outputs": [],
   "source": [
    "df = df.drop(columns=[\"CustomerId\", \"Surname\", \"ID\", \"Tenure\", \"HasCrCard\", \"CreditScore\", \"EstimatedSalary\"])  # Suppression des colonnes non utiles\n"
   ]
  },
  {
   "cell_type": "markdown",
   "metadata": {},
   "source": [
    "### Normalisations"
   ]
  },
  {
   "cell_type": "code",
   "execution_count": 109,
   "metadata": {},
   "outputs": [],
   "source": [
    "# Liste des variables continues à normaliser\n",
    "cols_to_normalize = [\"Age\", \"Balance\"]\n",
    "\n",
    "# Appliquer StandardScaler\n",
    "scaler = StandardScaler()\n",
    "df[cols_to_normalize] = scaler.fit_transform(df[cols_to_normalize])\n"
   ]
  },
  {
   "cell_type": "markdown",
   "metadata": {},
   "source": [
    "### Machine Learning"
   ]
  },
  {
   "cell_type": "code",
   "execution_count": null,
   "metadata": {},
   "outputs": [],
   "source": [
    "# Définir les features (X) et la cible (y)\n",
    "X = df.drop(columns=[\"Exited\"])  # Toutes les variables sauf la cible\n",
    "y = df[\"Exited\"]  # Variable cible (churn)\n",
    "\n",
    "# Entraîner le modèle Random Forest\n",
    "model = RandomForestClassifier(n_estimators=100, random_state=42)\n",
    "model.fit(X, y)  # Entraînement du modèle\n",
    "\n",
    "# Prédiction sur train_data.csv\n",
    "y_pred = model.predict(X)\n",
    "\n",
    "# Évaluation du modèle\n",
    "acc = accuracy_score(y, y_pred)\n",
    "f1 = f1_score(y, y_pred)\n",
    "\n",
    "print(f\"✅ Accuracy = {acc:.4f}\")\n",
    "print(f\"✅ F1-score = {f1:.4f}\")\n",
    "print(classification_report(y, y_pred))\n",
    "\n",
    "# Sauvegarder le modèle entraîné\n",
    "joblib.dump(model, \"random_forest_model.pkl\")\n",
    "\n"
   ]
  },
  {
   "cell_type": "code",
   "execution_count": 102,
   "metadata": {},
   "outputs": [
    {
     "name": "stdout",
     "output_type": "stream",
     "text": [
      "✅ Test set après preprocessing : 21455 lignes, 8 colonnes\n"
     ]
    }
   ],
   "source": [
    "# Charger test_data.csv\n",
    "df_test = pd.read_csv(\"./data/test_data.csv\")\n",
    "\n",
    "# Vérifier que la colonne ID existe (nécessaire pour Kaggle)\n",
    "if \"ID\" not in df_test.columns:\n",
    "    raise ValueError(\"❌ ERREUR : La colonne 'ID' est absente de test_data.csv, Kaggle en a besoin.\")\n",
    "\n",
    "# Appliquer exactement le même preprocessing sur test_data.csv que sur train_data.csv\n",
    "\n",
    "### Détection des Outliers\n",
    "df_test[\"Age\"] = df_test[\"Age\"].clip(lower=lower_bound[\"Age\"], upper=upper_bound[\"Age\"])\n",
    "df_test[\"CreditScore\"] = df_test[\"CreditScore\"].clip(lower=lower_bound[\"CreditScore\"], upper=upper_bound[\"CreditScore\"])\n",
    "df_test[\"Balance\"] = df_test[\"Balance\"].clip(lower=lower_bound[\"Balance\"], upper=upper_bound[\"Balance\"])\n",
    "df_test[\"EstimatedSalary\"] = df_test[\"EstimatedSalary\"].clip(lower=lower_bound[\"EstimatedSalary\"], upper=upper_bound[\"EstimatedSalary\"])\n",
    "\n",
    "### Encodage des Variables Catégorielles\n",
    "encoded_test = encoder.transform(df_test[categorical_cols])\n",
    "encoded_test_df = pd.DataFrame(encoded_test, columns=encoder.get_feature_names_out(categorical_cols))\n",
    "\n",
    "# Fusionner avec le dataset et supprimer les anciennes colonnes\n",
    "df_test = df_test.drop(columns=categorical_cols).reset_index(drop=True)\n",
    "df_test = pd.concat([df_test, encoded_test_df], axis=1)\n",
    "\n",
    "### Feature Engineering\n",
    "df_test[\"HasBalance\"] = (df_test[\"Balance\"] > 0).astype(int)\n",
    "\n",
    "### Normalisation\n",
    "df_test[cols_to_normalize] = scaler.transform(df_test[cols_to_normalize])\n",
    "\n",
    "# Conserver la colonne 'ID' dans df_test avant de faire la sélection des features\n",
    "df_test_input = df_test[X.columns]  # Appliquer exactement les mêmes colonnes utilisées pour entraîner le modèle\n",
    "\n",
    "\n",
    "print(f\"✅ Test set après preprocessing : {df_test_input.shape[0]} lignes, {df_test_input.shape[1]} colonnes\")\n",
    "\n"
   ]
  },
  {
   "cell_type": "code",
   "execution_count": 103,
   "metadata": {},
   "outputs": [
    {
     "name": "stdout",
     "output_type": "stream",
     "text": [
      "✅ Fichier 'submission.csv' généré avec succès ! 🎯\n"
     ]
    }
   ],
   "source": [
    "# Charger le modèle Random Forest sauvegardé\n",
    "model = joblib.load(\"random_forest_model.pkl\")\n",
    "\n",
    "# Prédire avec le modèle sur test_data\n",
    "y_test_pred = model.predict(df_test_input)\n",
    "\n",
    "# Créer le DataFrame de soumission sans ajouter d'index inutile\n",
    "submission = pd.DataFrame({\n",
    "    \"ID\": df_test[\"ID\"],  # Remettre la colonne 'ID' dans le DataFrame\n",
    "    \"Exited\": y_test_pred  # Ajouter les prédictions\n",
    "})\n",
    "\n",
    "# Sauvegarder le fichier CSV pour Kaggle **sans nom de colonne pour l'index**\n",
    "submission.to_csv(\"submission.csv\", index=False)  # index=False pour ne pas inclure d'index supplémentaire\n",
    "\n",
    "# Confirmer que le fichier a été sauvegardé correctement\n",
    "print(\"✅ Fichier 'submission.csv' généré avec succès ! 🎯\")\n",
    "\n",
    "\n"
   ]
  }
 ],
 "metadata": {
  "kernelspec": {
   "display_name": "4-classificationbankchurn-glxd70eG-py3.11",
   "language": "python",
   "name": "python3"
  },
  "language_info": {
   "codemirror_mode": {
    "name": "ipython",
    "version": 3
   },
   "file_extension": ".py",
   "mimetype": "text/x-python",
   "name": "python",
   "nbconvert_exporter": "python",
   "pygments_lexer": "ipython3",
   "version": "3.11.5"
  }
 },
 "nbformat": 4,
 "nbformat_minor": 2
}
