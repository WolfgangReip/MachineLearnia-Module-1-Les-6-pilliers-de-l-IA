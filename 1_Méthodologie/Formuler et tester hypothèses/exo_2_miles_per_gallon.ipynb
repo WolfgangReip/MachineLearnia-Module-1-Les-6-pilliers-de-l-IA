{
 "cells": [
  {
   "cell_type": "markdown",
   "metadata": {},
   "source": [
    "# **2. Miles Per Gallon**"
   ]
  },
  {
   "cell_type": "code",
   "execution_count": 1,
   "metadata": {},
   "outputs": [],
   "source": [
    "import seaborn as sns\n",
    "from scipy.stats import pearsonr\n",
    "from scipy.stats import ttest_ind\n",
    "from scipy.stats import ttest_1samp\n",
    "from scipy.stats import chisquare\n",
    "import pandas as pd\n",
    "import matplotlib.pyplot as plt\n",
    "import numpy as np"
   ]
  },
  {
   "cell_type": "markdown",
   "metadata": {},
   "source": [
    "1. Analysez l'évolution de la consommation des voitures (mpg) par rapport à la puissance du moteur (horsepower).\n",
    "\n",
    "- Refaites le graphique correspondant\n",
    "\n",
    "- Quelle est la corrélation de Pearson entre ces deux variables ?\n",
    "\n",
    "- Quelle serait la probabilité d'obtenir une telle corrélation ou plus extrême, si en réalité les deux variables étaient totalement décorrélées ?"
   ]
  },
  {
   "cell_type": "code",
   "execution_count": 2,
   "metadata": {},
   "outputs": [
    {
     "data": {
      "text/html": [
       "<div>\n",
       "<style scoped>\n",
       "    .dataframe tbody tr th:only-of-type {\n",
       "        vertical-align: middle;\n",
       "    }\n",
       "\n",
       "    .dataframe tbody tr th {\n",
       "        vertical-align: top;\n",
       "    }\n",
       "\n",
       "    .dataframe thead th {\n",
       "        text-align: right;\n",
       "    }\n",
       "</style>\n",
       "<table border=\"1\" class=\"dataframe\">\n",
       "  <thead>\n",
       "    <tr style=\"text-align: right;\">\n",
       "      <th></th>\n",
       "      <th>mpg</th>\n",
       "      <th>cylinders</th>\n",
       "      <th>displacement</th>\n",
       "      <th>horsepower</th>\n",
       "      <th>weight</th>\n",
       "      <th>acceleration</th>\n",
       "      <th>model_year</th>\n",
       "      <th>origin</th>\n",
       "      <th>name</th>\n",
       "    </tr>\n",
       "  </thead>\n",
       "  <tbody>\n",
       "    <tr>\n",
       "      <th>0</th>\n",
       "      <td>18.0</td>\n",
       "      <td>8</td>\n",
       "      <td>307.0</td>\n",
       "      <td>130.0</td>\n",
       "      <td>3504</td>\n",
       "      <td>12.0</td>\n",
       "      <td>70</td>\n",
       "      <td>usa</td>\n",
       "      <td>chevrolet chevelle malibu</td>\n",
       "    </tr>\n",
       "    <tr>\n",
       "      <th>1</th>\n",
       "      <td>15.0</td>\n",
       "      <td>8</td>\n",
       "      <td>350.0</td>\n",
       "      <td>165.0</td>\n",
       "      <td>3693</td>\n",
       "      <td>11.5</td>\n",
       "      <td>70</td>\n",
       "      <td>usa</td>\n",
       "      <td>buick skylark 320</td>\n",
       "    </tr>\n",
       "    <tr>\n",
       "      <th>2</th>\n",
       "      <td>18.0</td>\n",
       "      <td>8</td>\n",
       "      <td>318.0</td>\n",
       "      <td>150.0</td>\n",
       "      <td>3436</td>\n",
       "      <td>11.0</td>\n",
       "      <td>70</td>\n",
       "      <td>usa</td>\n",
       "      <td>plymouth satellite</td>\n",
       "    </tr>\n",
       "    <tr>\n",
       "      <th>3</th>\n",
       "      <td>16.0</td>\n",
       "      <td>8</td>\n",
       "      <td>304.0</td>\n",
       "      <td>150.0</td>\n",
       "      <td>3433</td>\n",
       "      <td>12.0</td>\n",
       "      <td>70</td>\n",
       "      <td>usa</td>\n",
       "      <td>amc rebel sst</td>\n",
       "    </tr>\n",
       "    <tr>\n",
       "      <th>4</th>\n",
       "      <td>17.0</td>\n",
       "      <td>8</td>\n",
       "      <td>302.0</td>\n",
       "      <td>140.0</td>\n",
       "      <td>3449</td>\n",
       "      <td>10.5</td>\n",
       "      <td>70</td>\n",
       "      <td>usa</td>\n",
       "      <td>ford torino</td>\n",
       "    </tr>\n",
       "  </tbody>\n",
       "</table>\n",
       "</div>"
      ],
      "text/plain": [
       "    mpg  cylinders  displacement  horsepower  weight  acceleration  \\\n",
       "0  18.0          8         307.0       130.0    3504          12.0   \n",
       "1  15.0          8         350.0       165.0    3693          11.5   \n",
       "2  18.0          8         318.0       150.0    3436          11.0   \n",
       "3  16.0          8         304.0       150.0    3433          12.0   \n",
       "4  17.0          8         302.0       140.0    3449          10.5   \n",
       "\n",
       "   model_year origin                       name  \n",
       "0          70    usa  chevrolet chevelle malibu  \n",
       "1          70    usa          buick skylark 320  \n",
       "2          70    usa         plymouth satellite  \n",
       "3          70    usa              amc rebel sst  \n",
       "4          70    usa                ford torino  "
      ]
     },
     "execution_count": 2,
     "metadata": {},
     "output_type": "execute_result"
    }
   ],
   "source": [
    "df = sns.load_dataset('mpg')   \n",
    "df.dropna(inplace=True)\n",
    "df.head()"
   ]
  },
  {
   "cell_type": "code",
   "execution_count": 3,
   "metadata": {},
   "outputs": [
    {
     "data": {
      "text/plain": [
       "Text(0.5, 1.0, 'Scatter plot of mpg and horsepower')"
      ]
     },
     "execution_count": 3,
     "metadata": {},
     "output_type": "execute_result"
    },
    {
     "data": {
      "image/png": "[encoded data removed]",
      "text/plain": [
       "<Figure size 640x480 with 1 Axes>"
      ]
     },
     "metadata": {},
     "output_type": "display_data"
    }
   ],
   "source": [
    "sns.scatterplot(x='horsepower', y='mpg', data=df)\n",
    "plt.title('Scatter plot of mpg and horsepower')\n"
   ]
  },
  {
   "cell_type": "code",
   "execution_count": 4,
   "metadata": {},
   "outputs": [
    {
     "data": {
      "text/plain": [
       "(np.float64(-0.778426783897776), np.float64(7.031989029403582e-81))"
      ]
     },
     "execution_count": 4,
     "metadata": {},
     "output_type": "execute_result"
    }
   ],
   "source": [
    "import numpy as np\n",
    "# Remove rows with NaNs or infinite values in 'mpg' or 'horsepower'\n",
    "df_clean = df[np.isfinite(df['mpg']) & np.isfinite(df['horsepower'])]\n",
    "\n",
    "# Calculate Pearson correlation\n",
    "pearson_corr, p_value = pearsonr(df_clean['mpg'], df_clean['horsepower'])\n",
    "pearson_corr, p_value"
   ]
  },
  {
   "cell_type": "markdown",
   "metadata": {},
   "source": [
    "- La corrélation de pearson est de 78% \n",
    "- la p-value est extrêment petite, ce qui veut dire que ces varibales sont bel et bien corrélées parce que HO ici préssupose qu'elles ne sont pas corrélées. Donc la probabilité pour observer une telle corrélation si les deux variables étaient décorrélées est extrêmement faible"
   ]
  },
  {
   "cell_type": "markdown",
   "metadata": {},
   "source": [
    "2. Peut-on affirmer avec un risque d'erreur de 2% que les voitures du Japon, d'Europe, et des États-Unis ont vu leur autonomie moyenne (mpg) augmenter entre la premiere moitiée des années 70s, et la seconde moitiée des années 70s ?\n",
    "\n",
    "\n"
   ]
  },
  {
   "cell_type": "code",
   "execution_count": 5,
   "metadata": {},
   "outputs": [
    {
     "data": {
      "text/plain": [
       "(np.float64(-5.124844610385172), np.float64(5.295104451324324e-07))"
      ]
     },
     "execution_count": 5,
     "metadata": {},
     "output_type": "execute_result"
    }
   ],
   "source": [
    "df_filtered_1 = df[(df['origin'].isin(['usa', 'japan', 'europe'])) & (df['model_year'] >= 70) & (df['model_year'] <= 74)]\n",
    "df_filtered_2 = df[(df['origin'].isin(['usa', 'japan', 'europe'])) & (df['model_year'] >= 75) & (df['model_year'] <= 79)]\n",
    "\n",
    "df_filtered_1_mean = df_filtered_1['mpg'].mean()\n",
    "df_filtered_2_mean = df_filtered_2['mpg'].mean()\n",
    "\n",
    "# Perform t-test\n",
    "t_stat, p_value = ttest_ind(df_filtered_1['mpg'], df_filtered_2['mpg'], equal_var=True)\n",
    "t_stat, p_value\n",
    "\n",
    "\n"
   ]
  },
  {
   "cell_type": "markdown",
   "metadata": {},
   "source": [
    "- La probabilité pour qu'on observe une telle différence de moyenne si les deux moyennes étaient les mêmes est trop petite, on peut donc affirmer avec un risque d'erreur de moins de 2% que ça a augmenté oui. "
   ]
  },
  {
   "cell_type": "markdown",
   "metadata": {},
   "source": [
    "3. Un constructeur automobile américain affirme que les voitures américaines à 4 cylindres ont en moyenne la même accélération que les voitures américaines à 6 cylindres. Testez cette affirmation et concluez avec un niveau de confiance de 98 % (alpha = 0,02)."
   ]
  },
  {
   "cell_type": "code",
   "execution_count": 6,
   "metadata": {},
   "outputs": [
    {
     "name": "stdout",
     "output_type": "stream",
     "text": [
      "16.465217391304343\n",
      "16.467123287671235\n"
     ]
    },
    {
     "data": {
      "text/plain": [
       "(np.float64(-0.0055490223717790345), np.float64(0.9955804426559065))"
      ]
     },
     "execution_count": 6,
     "metadata": {},
     "output_type": "execute_result"
    }
   ],
   "source": [
    "df_4_cylinders = df.query('cylinders == 4 and origin == \"usa\"')\n",
    "df_6_cylinders = df.query('cylinders == 6 and origin == \"usa\"')\n",
    "\n",
    "print(df_4_cylinders['acceleration'].mean())\n",
    "print(df_6_cylinders['acceleration'].mean())\n",
    "\n",
    "# Perform t-test\n",
    "t_stat, p_value = ttest_ind(df_4_cylinders['acceleration'], df_6_cylinders['acceleration'])\n",
    "t_stat, p_value\n"
   ]
  },
  {
   "cell_type": "markdown",
   "metadata": {},
   "source": [
    "- Donc, nous n'avons pas suffisemment de preuve pour rejeter H0. Nous avons même bcp de preuve de le confirmer. "
   ]
  },
  {
   "cell_type": "markdown",
   "metadata": {},
   "source": [
    "4. Un collectionneur de voitures vous affirme que parmi les voitures Ford des années 1970-1982, il y avait :\n",
    "\n",
    "- 25 % de 4 cylindres\n",
    "\n",
    "- 25 % de 6 cylindres\n",
    "\n",
    "- 50 % de 8 cylindres\n",
    "\n",
    "Testez son affirmation et concluez avec un niveau de confiance de 95 %."
   ]
  },
  {
   "cell_type": "code",
   "execution_count": 7,
   "metadata": {},
   "outputs": [
    {
     "name": "stdout",
     "output_type": "stream",
     "text": [
      "48\n",
      "16\n",
      "12\n",
      "20\n",
      "On ne peut pas rejeter l'hypothèse nulle. Les proportions observées sont conformes aux proportions théoriques.\n"
     ]
    },
    {
     "data": {
      "image/png": "[encoded data removed]",
      "text/plain": [
       "<Figure size 640x480 with 1 Axes>"
      ]
     },
     "metadata": {},
     "output_type": "display_data"
    }
   ],
   "source": [
    "result = df[df['name'].str.contains('ford', case=False, na=False)]\n",
    "result = result.query(\"model_year >= 70 and model_year <= 82\")\n",
    "four_cylinders = result.query('cylinders == 4')\n",
    "six_cylinders = result.query('cylinders == 6')\n",
    "eight_cylinders = result.query('cylinders == 8')\n",
    "\n",
    "print(result['acceleration'].count())\n",
    "print(four_cylinders['acceleration'].count())\n",
    "print(six_cylinders['acceleration'].count())\n",
    "print(eight_cylinders['acceleration'].count())\n",
    "\n",
    "\n",
    "test = pd.crosstab(result['model_year'], result['cylinders'])\n",
    "test.plot(kind='bar', stacked=True)\n",
    "\n",
    "\n",
    "import scipy.stats as stats\n",
    "\n",
    "# Effectifs observés (exemple)\n",
    "observed_counts = [four_cylinders['acceleration'].count(), six_cylinders['acceleration'].count(), eight_cylinders['acceleration'].count()]  # nombre de voitures pour 4, 6 et 8 cylindres, respectivement\n",
    "\n",
    "# Effectifs attendus (selon les proportions théoriques)\n",
    "total = sum(observed_counts)\n",
    "expected_counts = [0.25 * total, 0.25 * total, 0.5 * total]\n",
    "\n",
    "# Test du chi-carré d'ajustement\n",
    "chi2_stat, p_value = stats.chisquare(f_obs=observed_counts, f_exp=expected_counts)\n",
    "\n",
    "# Niveau de confiance de 95 % (alpha = 0.05)\n",
    "alpha = 0.05\n",
    "if p_value < alpha:\n",
    "    print(\"Rejet de l'hypothèse nulle. Les proportions observées diffèrent des proportions théoriques.\")\n",
    "else:\n",
    "    print(\"On ne peut pas rejeter l'hypothèse nulle. Les proportions observées sont conformes aux proportions théoriques.\")\n",
    "\n"
   ]
  },
  {
   "cell_type": "markdown",
   "metadata": {},
   "source": [
    "5. Les voitures à 4 cylindres ont en moyenne la même consommation d'essence au Japon, en Europe et aux États-Unis, dans les années 1970-1982. Testez cette affirmation et concluez avec un niveau de confiance de 98 % (alpha = 0,02)."
   ]
  },
  {
   "cell_type": "code",
   "execution_count": 8,
   "metadata": {},
   "outputs": [
    {
     "name": "stdout",
     "output_type": "stream",
     "text": [
      "Rejet de l'hypothèse nulle. Les moyennes de consommation d'essence diffèrent entre au moins deux régions.\n"
     ]
    }
   ],
   "source": [
    "import scipy.stats as stats\n",
    "\n",
    "# Exemple de données : consommation d'essence pour les voitures à 4 cylindres dans chaque région (en L/100 km)\n",
    "japan_mpg = df.query('cylinders == 4 and origin == \"japan\"')['mpg']\n",
    "europe_mpg = df.query('cylinders == 4 and origin == \"europe\"')['mpg']\n",
    "us_mpg = df.query('cylinders == 4 and origin == \"usa\"')['mpg']\n",
    "\n",
    "# Application du test ANOVA\n",
    "f_stat, p_value = stats.f_oneway(japan_mpg, europe_mpg, us_mpg)\n",
    "\n",
    "# Niveau de confiance de 98 % (alpha = 0,02)\n",
    "alpha = 0.02\n",
    "if p_value < alpha:\n",
    "    print(\"Rejet de l'hypothèse nulle. Les moyennes de consommation d'essence diffèrent entre au moins deux régions.\")\n",
    "else:\n",
    "    print(\"On ne peut pas rejeter l'hypothèse nulle. Les moyennes de consommation d'essence sont statistiquement similaires entre les trois régions.\")\n"
   ]
  },
  {
   "cell_type": "markdown",
   "metadata": {},
   "source": [
    "\n",
    "6. Les voitures européennes et japonaises ont en moyenne le même nombre de chevaux. Testez cette affirmation et concluez avec un niveau de confiance de 98 % (alpha = 0,02)."
   ]
  },
  {
   "cell_type": "code",
   "execution_count": 9,
   "metadata": {},
   "outputs": [
    {
     "name": "stdout",
     "output_type": "stream",
     "text": [
      "On ne peut pas rejeter l'hypothèse nulle. Les moyennes du nombre de chevaux sont statistiquement similaires entre les voitures européennes et japonaises.\n"
     ]
    }
   ],
   "source": [
    "import scipy.stats as stats\n",
    "\n",
    "# Exemple de données : nombre de chevaux pour les voitures européennes et japonaises\n",
    "europe_hp = df.query('origin == \"europe\"')['horsepower']  # Chevaux des voitures européennes\n",
    "japan_hp = df.query('origin == \"japan\"')['horsepower']  # Chevaux des voitures japonaises\n",
    "\n",
    "# Test t de Student pour échantillons indépendants\n",
    "t_stat, p_value = stats.ttest_ind(europe_hp, japan_hp)  # Ajuster à False si variances différentes\n",
    "\n",
    "# Niveau de confiance de 98 % (alpha = 0,02)\n",
    "alpha = 0.02\n",
    "if p_value < alpha:\n",
    "    print(\"Rejet de l'hypothèse nulle. Les moyennes du nombre de chevaux diffèrent entre les voitures européennes et japonaises.\")\n",
    "else:\n",
    "    print(\"On ne peut pas rejeter l'hypothèse nulle. Les moyennes du nombre de chevaux sont statistiquement similaires entre les voitures européennes et japonaises.\")\n"
   ]
  },
  {
   "cell_type": "markdown",
   "metadata": {},
   "source": [
    "7. Un spécialiste vous dit que les constructeurs Ford et Dodge produisaient dans les années 70-82 des voitures avec un nombre de cylindres équivalent. Testez cette affirmation et concluez avec un niveau de confiance de 98 % (alpha = 0,02).\n",
    "\n",
    "\n"
   ]
  },
  {
   "cell_type": "code",
   "execution_count": 10,
   "metadata": {},
   "outputs": [
    {
     "name": "stdout",
     "output_type": "stream",
     "text": [
      "p-value : 0.49519377793169383\n",
      "On ne peut pas rejeter l'hypothèse nulle. La répartition des cylindres est similaire entre Ford et Dodge.\n",
      "\n",
      "Table de contingence :\n",
      "cylinders   4   6   8\n",
      "brand                \n",
      "dodge      12   4  12\n",
      "ford       16  12  20\n",
      "\n",
      "Effectifs attendus :\n",
      "[[10.31578947  5.89473684 11.78947368]\n",
      " [17.68421053 10.10526316 20.21052632]]\n"
     ]
    },
    {
     "name": "stderr",
     "output_type": "stream",
     "text": [
      "/tmp/ipykernel_132602/340053253.py:5: SettingWithCopyWarning: \n",
      "A value is trying to be set on a copy of a slice from a DataFrame.\n",
      "Try using .loc[row_indexer,col_indexer] = value instead\n",
      "\n",
      "See the caveats in the documentation: https://pandas.pydata.org/pandas-docs/stable/user_guide/indexing.html#returning-a-view-versus-a-copy\n",
      "  filtered_df['brand'] = filtered_df['name'].apply(lambda x: 'ford' if 'ford' in x.lower() else 'dodge')\n"
     ]
    }
   ],
   "source": [
    "# Filtrer le dataframe pour ne conserver que les marques Ford et Dodge\n",
    "filtered_df = df[df['name'].str.contains('ford|dodge', case=False, na=False)]\n",
    "\n",
    "# Créer une colonne \"brand\" pour indiquer la marque\n",
    "filtered_df['brand'] = filtered_df['name'].apply(lambda x: 'ford' if 'ford' in x.lower() else 'dodge')\n",
    "\n",
    "# Créer une table de contingence avec les effectifs pour chaque combinaison de marque et de nombre de cylindres\n",
    "contingency_table = pd.crosstab(filtered_df['brand'], filtered_df['cylinders'])\n",
    "\n",
    "# Appliquer le test du chi-carré d'indépendance\n",
    "chi2, p_value, dof, expected = stats.chi2_contingency(contingency_table)\n",
    "print(\"p-value :\", p_value)\n",
    "# Niveau de confiance de 98 % (alpha = 0.02)\n",
    "alpha = 0.02\n",
    "if p_value < alpha:\n",
    "    print(\"Rejet de l'hypothèse nulle. La répartition des cylindres diffère significativement entre Ford et Dodge.\")\n",
    "else:\n",
    "    print(\"On ne peut pas rejeter l'hypothèse nulle. La répartition des cylindres est similaire entre Ford et Dodge.\")\n",
    "\n",
    "# Affichage de la table de contingence et des valeurs attendues\n",
    "print(\"\\nTable de contingence :\")\n",
    "print(contingency_table)\n",
    "print(\"\\nEffectifs attendus :\")\n",
    "print(expected)"
   ]
  }
 ],
 "metadata": {
  "kernelspec": {
   "display_name": "4-classificationbankchurn-glxd70eG-py3.11",
   "language": "python",
   "name": "python3"
  },
  "language_info": {
   "codemirror_mode": {
    "name": "ipython",
    "version": 3
   },
   "file_extension": ".py",
   "mimetype": "text/x-python",
   "name": "python",
   "nbconvert_exporter": "python",
   "pygments_lexer": "ipython3",
   "version": "3.11.5"
  }
 },
 "nbformat": 4,
 "nbformat_minor": 2
}
